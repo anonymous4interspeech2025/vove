{
 "cells": [
  {
   "cell_type": "code",
   "execution_count": 56,
   "id": "f815a452-d746-4b2b-9a4c-25ea7c14af2b",
   "metadata": {},
   "outputs": [],
   "source": [
    "import os\n",
    "import json\n",
    "import torch\n",
    "import torch.nn as nn"
   ]
  },
  {
   "cell_type": "code",
   "execution_count": 2,
   "id": "2fc17dec-d76b-4518-96bb-abfeb021f1ea",
   "metadata": {},
   "outputs": [],
   "source": [
    "os.chdir('../../vove')\n",
    "from models.vove_ecapa import Vove_Ecapa\n",
    "from utils import HParams, load_checkpoint, load_filepaths_and_text, load_wav_to_torch"
   ]
  },
  {
   "cell_type": "code",
   "execution_count": 3,
   "id": "5b7967a3-481e-43ca-8bad-7fa8baba34db",
   "metadata": {},
   "outputs": [],
   "source": [
    "configs_dir = f'configs/vove_ecapa.json'\n",
    "with open(configs_dir, \"r\") as f:\n",
    "    data = f.read()\n",
    "config = json.loads(data)\n",
    "args = HParams(**config)"
   ]
  },
  {
   "cell_type": "code",
   "execution_count": 265,
   "id": "7028365a-0eb8-4e09-82c3-d354324b69ab",
   "metadata": {},
   "outputs": [],
   "source": [
    "device = 'cpu'\n",
    "ckpt_path = '/disk3/jaejun/libri/voveveve_full/checkpoints/G_10.pth'"
   ]
  },
  {
   "cell_type": "code",
   "execution_count": 266,
   "id": "40232829-c14a-4f25-aacb-7e9bbda8b222",
   "metadata": {},
   "outputs": [
    {
     "name": "stdout",
     "output_type": "stream",
     "text": [
      "Checkpoint Load starting..\n",
      "Loaded checkpoint '/disk3/jaejun/libri/voveveve_full/checkpoints/G_10.pth' (Epoch 10)\n"
     ]
    }
   ],
   "source": [
    "vove = Vove_Ecapa(**args.model)\n",
    "vove, _, _, _ = load_checkpoint(ckpt_path, vove, None)\n",
    "vove = vove.to(device)\n",
    "vove = vove.eval()"
   ]
  },
  {
   "cell_type": "code",
   "execution_count": 267,
   "id": "0dc8b1f0-e4c8-46dc-81e5-d2be0ee4bda4",
   "metadata": {},
   "outputs": [],
   "source": [
    "sample_dir = '/disk2/vctk/modified/wav16/p225/p225_002.wav'\n",
    "sample_dir_female1 = '/disk2/vctk/modified/wav16/p276/p276_002.wav'\n",
    "sample_dir_female2 = '/disk2/vctk/modified/wav16/p236/p236_002.wav'\n",
    "# sample_dir_female2 = '/disk2/vctk/modified/wav16/p317/p317_002.wav'\n",
    "sample_dir_male1 = '/disk2/vctk/modified/wav16/p279/p279_002.wav'\n",
    "sample_dir_male2 = '/disk2/vctk/modified/wav16/p237/p237_002.wav'\n",
    "# sample_dir_male2 = '/disk2/vctk/modified/wav16/p254/p254_002.wav'\n",
    "# sample_dir_male2 = '/disk2/vctk/modified/wav16/p326/p326_002.wav'\n"
   ]
  },
  {
   "cell_type": "code",
   "execution_count": 268,
   "id": "3aadf349-e173-4ab0-9df0-e9d561238109",
   "metadata": {},
   "outputs": [],
   "source": [
    "# Inference\n",
    "audio, sampling_rate = load_wav_to_torch(sample_dir_female1)\n",
    "audio_norm = audio / 32768.0\n",
    "audio_norm = audio_norm.unsqueeze(0)"
   ]
  },
  {
   "cell_type": "code",
   "execution_count": 272,
   "id": "d227a9ac-4ced-477d-8da7-2785126f54f6",
   "metadata": {},
   "outputs": [],
   "source": [
    "# Inference\n",
    "audio, sampling_rate = load_wav_to_torch(sample_dir_female2)\n",
    "audio_norm = audio / 32768.0\n",
    "audio_norm = audio_norm.unsqueeze(0)"
   ]
  },
  {
   "cell_type": "code",
   "execution_count": 284,
   "id": "19f3e166-0069-4374-99b5-6c816e6e392b",
   "metadata": {},
   "outputs": [],
   "source": [
    "# Inference\n",
    "audio, sampling_rate = load_wav_to_torch(sample_dir_male1)\n",
    "audio_norm = audio / 32768.0\n",
    "audio_norm = audio_norm.unsqueeze(0)"
   ]
  },
  {
   "cell_type": "code",
   "execution_count": 280,
   "id": "716dc1ec-c6d2-4fbf-b35e-8269487bdfb7",
   "metadata": {},
   "outputs": [],
   "source": [
    "# Inference\n",
    "audio, sampling_rate = load_wav_to_torch(sample_dir_male2)\n",
    "audio_norm = audio / 32768.0\n",
    "audio_norm = audio_norm.unsqueeze(0)"
   ]
  },
  {
   "cell_type": "code",
   "execution_count": 285,
   "id": "67adedc0-0436-4112-803e-145e3c061d76",
   "metadata": {},
   "outputs": [],
   "source": [
    "with torch.no_grad():\n",
    "    pred = vove.predict(audio_norm.to(device))"
   ]
  },
  {
   "cell_type": "code",
   "execution_count": 286,
   "id": "b9f6b3da-e490-43e6-b016-429690f63f91",
   "metadata": {},
   "outputs": [],
   "source": [
    "attribute_dict = {}\n",
    "for idx, attribute in enumerate(vove.attributes):\n",
    "    attribute_dict[attribute] = expit(pred[idx].detach().cpu()).item()"
   ]
  },
  {
   "cell_type": "code",
   "execution_count": 287,
   "id": "115ac567-5abd-4a0c-9dbd-e68d6941e304",
   "metadata": {},
   "outputs": [
    {
     "data": {
      "text/plain": [
       "[('cool', 0.8410950303077698),\n",
       " ('muffled', 0.7887563705444336),\n",
       " ('adult-like', 0.7843561172485352),\n",
       " ('masculine', 0.7741580605506897),\n",
       " ('middle-aged', 0.7442138195037842),\n",
       " ('sexy', 0.7203297019004822),\n",
       " ('bright', 0.7196004986763),\n",
       " ('hard', 0.7141854763031006),\n",
       " ('wild', 0.7006529569625854),\n",
       " ('kind', 0.6894934773445129),\n",
       " ('unique', 0.6693365573883057),\n",
       " ('mature', 0.6670931577682495),\n",
       " ('thick', 0.6650925874710083),\n",
       " ('lively', 0.6636781692504883),\n",
       " ('refreshing', 0.6590369343757629),\n",
       " ('sincere', 0.6314796209335327),\n",
       " ('calm', 0.6110998392105103),\n",
       " ('powerful', 0.6007100939750671),\n",
       " ('sweet', 0.5810359716415405),\n",
       " ('weak', 0.5767749547958374),\n",
       " ('soft', 0.525857150554657),\n",
       " ('friendly', 0.4881778955459595),\n",
       " ('halting', 0.48767244815826416),\n",
       " ('intellectual', 0.48370447754859924),\n",
       " ('tensed', 0.48047536611557007),\n",
       " ('old', 0.4744768440723419),\n",
       " ('young', 0.4701273739337921),\n",
       " ('relaxed', 0.44414520263671875),\n",
       " ('strict', 0.441172331571579),\n",
       " ('dark', 0.41608795523643494),\n",
       " ('raspy', 0.4102686047554016),\n",
       " ('intense', 0.40962785482406616),\n",
       " ('gender-neutral', 0.4053363800048828),\n",
       " ('fluent', 0.39628902077674866),\n",
       " ('cute', 0.3895619511604309),\n",
       " ('clear', 0.35800448060035706),\n",
       " ('nasal', 0.3466064929962158),\n",
       " ('feminine', 0.32807958126068115),\n",
       " ('sharp', 0.32591867446899414),\n",
       " ('reassuring', 0.276111364364624),\n",
       " ('thin', 0.2591390311717987),\n",
       " ('elegant', 0.22175297141075134),\n",
       " ('modest', 0.16005876660346985),\n",
       " ('light', 0.15657326579093933)]"
      ]
     },
     "execution_count": 287,
     "metadata": {},
     "output_type": "execute_result"
    }
   ],
   "source": [
    "sorted(attribute_dict.items(), key=lambda x: x[1], reverse=True)"
   ]
  },
  {
   "cell_type": "code",
   "execution_count": 209,
   "id": "a850d8a3-9dac-482d-816b-d901cf120aaa",
   "metadata": {},
   "outputs": [
    {
     "data": {
      "text/plain": [
       "[('mature', 0.8622740507125854),\n",
       " ('wild', 0.8036912083625793),\n",
       " ('thick', 0.772905170917511),\n",
       " ('raspy', 0.7636421322822571),\n",
       " ('sweet', 0.7601783871650696),\n",
       " ('kind', 0.7367836236953735),\n",
       " ('friendly', 0.7269816398620605),\n",
       " ('old', 0.7258583903312683),\n",
       " ('cool', 0.7096449732780457),\n",
       " ('masculine', 0.6974897980690002),\n",
       " ('unique', 0.659604012966156),\n",
       " ('strict', 0.6142850518226624),\n",
       " ('tensed', 0.6070892214775085),\n",
       " ('hard', 0.5996533036231995),\n",
       " ('muffled', 0.5976355671882629),\n",
       " ('powerful', 0.5924496054649353),\n",
       " ('middle-aged', 0.57904452085495),\n",
       " ('weak', 0.5756069421768188),\n",
       " ('reassuring', 0.5708604454994202),\n",
       " ('sincere', 0.5384567379951477),\n",
       " ('intellectual', 0.5361313223838806),\n",
       " ('calm', 0.5145431756973267),\n",
       " ('halting', 0.4997387230396271),\n",
       " ('adult-like', 0.48777174949645996),\n",
       " ('bright', 0.45866668224334717),\n",
       " ('sexy', 0.43250778317451477),\n",
       " ('lively', 0.42263180017471313),\n",
       " ('modest', 0.421631395816803),\n",
       " ('soft', 0.41147276759147644),\n",
       " ('sharp', 0.39383259415626526),\n",
       " ('light', 0.37385377287864685),\n",
       " ('refreshing', 0.3725859820842743),\n",
       " ('gender-neutral', 0.37246614694595337),\n",
       " ('thin', 0.36280885338783264),\n",
       " ('nasal', 0.32813888788223267),\n",
       " ('fluent', 0.3239772319793701),\n",
       " ('cute', 0.29612067341804504),\n",
       " ('dark', 0.2843780815601349),\n",
       " ('relaxed', 0.2836993634700775),\n",
       " ('intense', 0.27159231901168823),\n",
       " ('feminine', 0.25282347202301025),\n",
       " ('young', 0.24611525237560272),\n",
       " ('clear', 0.19902066886425018),\n",
       " ('elegant', 0.10292722284793854)]"
      ]
     },
     "execution_count": 209,
     "metadata": {},
     "output_type": "execute_result"
    }
   ],
   "source": [
    "sorted(attribute_dict.items(), key=lambda x: x[1], reverse=True)"
   ]
  },
  {
   "cell_type": "code",
   "execution_count": null,
   "id": "8c4fc6c7-9bdf-455c-a53f-3efec5b8bc43",
   "metadata": {},
   "outputs": [],
   "source": []
  }
 ],
 "metadata": {
  "kernelspec": {
   "display_name": "Python 3 (ipykernel)",
   "language": "python",
   "name": "python3"
  },
  "language_info": {
   "codemirror_mode": {
    "name": "ipython",
    "version": 3
   },
   "file_extension": ".py",
   "mimetype": "text/x-python",
   "name": "python",
   "nbconvert_exporter": "python",
   "pygments_lexer": "ipython3",
   "version": "3.10.11"
  }
 },
 "nbformat": 4,
 "nbformat_minor": 5
}
